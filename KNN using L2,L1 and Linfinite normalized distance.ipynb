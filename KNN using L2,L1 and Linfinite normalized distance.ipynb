{
 "cells": [
  {
   "cell_type": "markdown",
   "metadata": {},
   "source": [
    "Importing the basic libraries and dataset"
   ]
  },
  {
   "cell_type": "code",
   "execution_count": 46,
   "metadata": {},
   "outputs": [
    {
     "data": {
      "text/html": [
       "<div>\n",
       "<style scoped>\n",
       "    .dataframe tbody tr th:only-of-type {\n",
       "        vertical-align: middle;\n",
       "    }\n",
       "\n",
       "    .dataframe tbody tr th {\n",
       "        vertical-align: top;\n",
       "    }\n",
       "\n",
       "    .dataframe thead th {\n",
       "        text-align: right;\n",
       "    }\n",
       "</style>\n",
       "<table border=\"1\" class=\"dataframe\">\n",
       "  <thead>\n",
       "    <tr style=\"text-align: right;\">\n",
       "      <th></th>\n",
       "      <th>trainPoints_x1</th>\n",
       "      <th>trainPoints_x2</th>\n",
       "      <th>trainLabel</th>\n",
       "      <th>testPoints_x1</th>\n",
       "      <th>testPoints_x2</th>\n",
       "      <th>testLabel</th>\n",
       "    </tr>\n",
       "  </thead>\n",
       "  <tbody>\n",
       "    <tr>\n",
       "      <th>0</th>\n",
       "      <td>1.947005</td>\n",
       "      <td>4.256560</td>\n",
       "      <td>-1</td>\n",
       "      <td>-1.888977</td>\n",
       "      <td>-4.622611</td>\n",
       "      <td>1</td>\n",
       "    </tr>\n",
       "    <tr>\n",
       "      <th>1</th>\n",
       "      <td>0.794931</td>\n",
       "      <td>3.556851</td>\n",
       "      <td>-1</td>\n",
       "      <td>4.233796</td>\n",
       "      <td>3.851680</td>\n",
       "      <td>1</td>\n",
       "    </tr>\n",
       "    <tr>\n",
       "      <th>2</th>\n",
       "      <td>-0.264977</td>\n",
       "      <td>2.128280</td>\n",
       "      <td>-1</td>\n",
       "      <td>-0.697926</td>\n",
       "      <td>4.132868</td>\n",
       "      <td>-1</td>\n",
       "    </tr>\n",
       "    <tr>\n",
       "      <th>3</th>\n",
       "      <td>-1.555300</td>\n",
       "      <td>0.408163</td>\n",
       "      <td>-1</td>\n",
       "      <td>-3.151837</td>\n",
       "      <td>2.961839</td>\n",
       "      <td>-1</td>\n",
       "    </tr>\n",
       "    <tr>\n",
       "      <th>4</th>\n",
       "      <td>-0.956221</td>\n",
       "      <td>-0.991254</td>\n",
       "      <td>-1</td>\n",
       "      <td>4.048810</td>\n",
       "      <td>-4.012877</td>\n",
       "      <td>1</td>\n",
       "    </tr>\n",
       "  </tbody>\n",
       "</table>\n",
       "</div>"
      ],
      "text/plain": [
       "   trainPoints_x1  trainPoints_x2  trainLabel  testPoints_x1  testPoints_x2  \\\n",
       "0        1.947005        4.256560          -1      -1.888977      -4.622611   \n",
       "1        0.794931        3.556851          -1       4.233796       3.851680   \n",
       "2       -0.264977        2.128280          -1      -0.697926       4.132868   \n",
       "3       -1.555300        0.408163          -1      -3.151837       2.961839   \n",
       "4       -0.956221       -0.991254          -1       4.048810      -4.012877   \n",
       "\n",
       "   testLabel  \n",
       "0          1  \n",
       "1          1  \n",
       "2         -1  \n",
       "3         -1  \n",
       "4          1  "
      ]
     },
     "execution_count": 46,
     "metadata": {},
     "output_type": "execute_result"
    }
   ],
   "source": [
    "import pandas as pd\n",
    "from math import sqrt\n",
    "import numpy as np\n",
    "from scipy.spatial import distance\n",
    "\n",
    "df = pd.read_csv('knnData.csv')\n",
    "df.head()"
   ]
  },
  {
   "cell_type": "markdown",
   "metadata": {},
   "source": [
    "Splittind the train_data and test_data from the dataset"
   ]
  },
  {
   "cell_type": "code",
   "execution_count": 47,
   "metadata": {},
   "outputs": [],
   "source": [
    "train_data =[] \n",
    "for index, rows in df.iterrows(): \n",
    "    train_item =[rows.trainPoints_x1, rows.trainPoints_x2, rows.trainLabel] \n",
    "    train_data.append(train_item) \n",
    "    \n",
    "test_data =[] \n",
    "for index, rows in df.iterrows():\n",
    "    test_item =[rows.testPoints_x1, rows.testPoints_x2, rows.testLabel] \n",
    "    test_data.append(test_item) "
   ]
  },
  {
   "cell_type": "markdown",
   "metadata": {},
   "source": [
    "Initializing the methods to realize the knn classifier "
   ]
  },
  {
   "cell_type": "code",
   "execution_count": 49,
   "metadata": {},
   "outputs": [],
   "source": [
    "def nearest_neighbors(train, test_row, num_neighbors, distance_measure):\n",
    "    distances = []\n",
    "    for train_row in train:\n",
    "        dist = distance_measure(test_row, train_row)\n",
    "        distances.append((train_row, dist))\n",
    "    distances.sort(key=lambda tup: tup[1])\n",
    "    neighbors = []\n",
    "    for i in range(num_neighbors):\n",
    "        neighbors.append(distances[i][0])\n",
    "    return neighbors\n",
    "\n",
    "def predict_classification(train, test_row, num_neighbors, distance_measure):\n",
    "    neighbors = nearest_neighbors(train, test_row, num_neighbors, distance_measure)\n",
    "    output_values = [row[-1] for row in neighbors]\n",
    "    prediction = max(set(output_values), key=output_values.count)\n",
    "    return prediction\n",
    "\n",
    "def accuracy_metric(actual, predicted):\n",
    "    correct = 0\n",
    "    for i in range(len(actual)):\n",
    "        if actual[i] == predicted[i]:\n",
    "            correct += 1\n",
    "    return correct / float(len(actual)) * 100.0\n",
    "\n",
    "def k_nearest_neighbors(train, test, num_neighbors, distance_measure):\n",
    "    predictions = []\n",
    "    for row in test:\n",
    "        output = predict_classification(train, row, num_neighbors, distance_measure)\n",
    "        predictions.append(output)\n",
    "    return(predictions)"
   ]
  },
  {
   "cell_type": "markdown",
   "metadata": {},
   "source": [
    "Accuracy Using L2 Norm or Euclidean"
   ]
  },
  {
   "cell_type": "code",
   "execution_count": 50,
   "metadata": {},
   "outputs": [
    {
     "name": "stdout",
     "output_type": "stream",
     "text": [
      "Mean Accuracy using L2 Norm: 87.50%\n"
     ]
    }
   ],
   "source": [
    "def L2_norm_distance(row1, row2):\n",
    "    return distance.euclidean(row1[:2], row2[:2])\n",
    "\n",
    "num_neighbors = 3\n",
    "scores = []\n",
    "predicted = k_nearest_neighbors(train_data, test_data, num_neighbors, L2_norm_distance)\n",
    "\n",
    "actual = [row[-1] for row in test_data]\n",
    "accuracy = accuracy_metric(actual, predicted)\n",
    "scores.append(accuracy)\n",
    "print('Mean Accuracy using L2 Norm: %.2f%%' % (sum(scores)/float(len(scores))))"
   ]
  },
  {
   "cell_type": "markdown",
   "metadata": {},
   "source": [
    "Accuracy using L1 Norm or cityblock"
   ]
  },
  {
   "cell_type": "code",
   "execution_count": 51,
   "metadata": {},
   "outputs": [
    {
     "name": "stdout",
     "output_type": "stream",
     "text": [
      "Mean Accuracy using L1 Norm: 87.50%\n"
     ]
    }
   ],
   "source": [
    "def L1_norm_distance(row1, row2):\n",
    "    return distance.cityblock(row1[:2], row2[:2])\n",
    "\n",
    "num_neighbors = 3\n",
    "scores = []\n",
    "predicted = k_nearest_neighbors(train_data, test_data, num_neighbors, L1_norm_distance)\n",
    "\n",
    "actual = [row[-1] for row in test_data]\n",
    "accuracy = accuracy_metric(actual, predicted)\n",
    "scores.append(accuracy)\n",
    "print('Mean Accuracy using L1 Norm: %.2f%%' % (sum(scores)/float(len(scores))))"
   ]
  },
  {
   "cell_type": "markdown",
   "metadata": {},
   "source": [
    "Accuracy using L infinite or chebyshev distance"
   ]
  },
  {
   "cell_type": "code",
   "execution_count": 52,
   "metadata": {},
   "outputs": [
    {
     "name": "stdout",
     "output_type": "stream",
     "text": [
      "Mean Accuracy using L-infinite Norm: 90.00%\n"
     ]
    }
   ],
   "source": [
    "def L_infinite_norm_distance(row1, row2):\n",
    "    return distance.chebyshev(row1[:2], row2[:2])\n",
    "\n",
    "num_neighbors = 3\n",
    "scores = []\n",
    "predicted = k_nearest_neighbors(train_data, test_data, num_neighbors, L_infinite_norm_distance)\n",
    "\n",
    "actual = [row[-1] for row in test_data]\n",
    "accuracy = accuracy_metric(actual, predicted)\n",
    "scores.append(accuracy)\n",
    "print('Mean Accuracy using L-infinite Norm: %.2f%%' % (sum(scores)/float(len(scores))))"
   ]
  },
  {
   "cell_type": "code",
   "execution_count": null,
   "metadata": {},
   "outputs": [],
   "source": []
  }
 ],
 "metadata": {
  "kernelspec": {
   "display_name": "Python 3",
   "language": "python",
   "name": "python3"
  },
  "language_info": {
   "codemirror_mode": {
    "name": "ipython",
    "version": 3
   },
   "file_extension": ".py",
   "mimetype": "text/x-python",
   "name": "python",
   "nbconvert_exporter": "python",
   "pygments_lexer": "ipython3",
   "version": "3.6.8"
  }
 },
 "nbformat": 4,
 "nbformat_minor": 2
}
